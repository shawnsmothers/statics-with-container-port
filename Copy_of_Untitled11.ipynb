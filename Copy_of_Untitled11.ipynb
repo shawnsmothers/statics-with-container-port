{
  "nbformat": 4,
  "nbformat_minor": 0,
  "metadata": {
    "colab": {
      "provenance": []
    },
    "kernelspec": {
      "name": "python3",
      "display_name": "Python 3"
    },
    "language_info": {
      "name": "python"
    }
  },
  "cells": [
    {
      "cell_type": "markdown",
      "source": [],
      "metadata": {
        "id": "QdyJ56-N--oY"
      }
    },
    {
      "cell_type": "code",
      "source": [
        "\n",
        "from google.colab import files\n",
        "from IPython.display import Image"
      ],
      "metadata": {
        "id": "9x9-emOE_JH3"
      },
      "execution_count": 2,
      "outputs": []
    },
    {
      "cell_type": "code",
      "source": [
        "uploaded = files.upload()"
      ],
      "metadata": {
        "colab": {
          "base_uri": "https://localhost:8080/",
          "height": 71
        },
        "id": "jCseUh9m_VBb",
        "outputId": "e08a8454-fe67-46cd-ad10-ce76372c700a"
      },
      "execution_count": 3,
      "outputs": [
        {
          "output_type": "display_data",
          "data": {
            "text/plain": [
              "<IPython.core.display.HTML object>"
            ],
            "text/html": [
              "\n",
              "     <input type=\"file\" id=\"files-28665c3a-fe07-4f42-8581-1f27edc841a3\" name=\"files[]\" multiple disabled\n",
              "        style=\"border:none\" />\n",
              "     <output id=\"result-28665c3a-fe07-4f42-8581-1f27edc841a3\">\n",
              "      Upload widget is only available when the cell has been executed in the\n",
              "      current browser session. Please rerun this cell to enable.\n",
              "      </output>\n",
              "      <script>// Copyright 2017 Google LLC\n",
              "//\n",
              "// Licensed under the Apache License, Version 2.0 (the \"License\");\n",
              "// you may not use this file except in compliance with the License.\n",
              "// You may obtain a copy of the License at\n",
              "//\n",
              "//      http://www.apache.org/licenses/LICENSE-2.0\n",
              "//\n",
              "// Unless required by applicable law or agreed to in writing, software\n",
              "// distributed under the License is distributed on an \"AS IS\" BASIS,\n",
              "// WITHOUT WARRANTIES OR CONDITIONS OF ANY KIND, either express or implied.\n",
              "// See the License for the specific language governing permissions and\n",
              "// limitations under the License.\n",
              "\n",
              "/**\n",
              " * @fileoverview Helpers for google.colab Python module.\n",
              " */\n",
              "(function(scope) {\n",
              "function span(text, styleAttributes = {}) {\n",
              "  const element = document.createElement('span');\n",
              "  element.textContent = text;\n",
              "  for (const key of Object.keys(styleAttributes)) {\n",
              "    element.style[key] = styleAttributes[key];\n",
              "  }\n",
              "  return element;\n",
              "}\n",
              "\n",
              "// Max number of bytes which will be uploaded at a time.\n",
              "const MAX_PAYLOAD_SIZE = 100 * 1024;\n",
              "\n",
              "function _uploadFiles(inputId, outputId) {\n",
              "  const steps = uploadFilesStep(inputId, outputId);\n",
              "  const outputElement = document.getElementById(outputId);\n",
              "  // Cache steps on the outputElement to make it available for the next call\n",
              "  // to uploadFilesContinue from Python.\n",
              "  outputElement.steps = steps;\n",
              "\n",
              "  return _uploadFilesContinue(outputId);\n",
              "}\n",
              "\n",
              "// This is roughly an async generator (not supported in the browser yet),\n",
              "// where there are multiple asynchronous steps and the Python side is going\n",
              "// to poll for completion of each step.\n",
              "// This uses a Promise to block the python side on completion of each step,\n",
              "// then passes the result of the previous step as the input to the next step.\n",
              "function _uploadFilesContinue(outputId) {\n",
              "  const outputElement = document.getElementById(outputId);\n",
              "  const steps = outputElement.steps;\n",
              "\n",
              "  const next = steps.next(outputElement.lastPromiseValue);\n",
              "  return Promise.resolve(next.value.promise).then((value) => {\n",
              "    // Cache the last promise value to make it available to the next\n",
              "    // step of the generator.\n",
              "    outputElement.lastPromiseValue = value;\n",
              "    return next.value.response;\n",
              "  });\n",
              "}\n",
              "\n",
              "/**\n",
              " * Generator function which is called between each async step of the upload\n",
              " * process.\n",
              " * @param {string} inputId Element ID of the input file picker element.\n",
              " * @param {string} outputId Element ID of the output display.\n",
              " * @return {!Iterable<!Object>} Iterable of next steps.\n",
              " */\n",
              "function* uploadFilesStep(inputId, outputId) {\n",
              "  const inputElement = document.getElementById(inputId);\n",
              "  inputElement.disabled = false;\n",
              "\n",
              "  const outputElement = document.getElementById(outputId);\n",
              "  outputElement.innerHTML = '';\n",
              "\n",
              "  const pickedPromise = new Promise((resolve) => {\n",
              "    inputElement.addEventListener('change', (e) => {\n",
              "      resolve(e.target.files);\n",
              "    });\n",
              "  });\n",
              "\n",
              "  const cancel = document.createElement('button');\n",
              "  inputElement.parentElement.appendChild(cancel);\n",
              "  cancel.textContent = 'Cancel upload';\n",
              "  const cancelPromise = new Promise((resolve) => {\n",
              "    cancel.onclick = () => {\n",
              "      resolve(null);\n",
              "    };\n",
              "  });\n",
              "\n",
              "  // Wait for the user to pick the files.\n",
              "  const files = yield {\n",
              "    promise: Promise.race([pickedPromise, cancelPromise]),\n",
              "    response: {\n",
              "      action: 'starting',\n",
              "    }\n",
              "  };\n",
              "\n",
              "  cancel.remove();\n",
              "\n",
              "  // Disable the input element since further picks are not allowed.\n",
              "  inputElement.disabled = true;\n",
              "\n",
              "  if (!files) {\n",
              "    return {\n",
              "      response: {\n",
              "        action: 'complete',\n",
              "      }\n",
              "    };\n",
              "  }\n",
              "\n",
              "  for (const file of files) {\n",
              "    const li = document.createElement('li');\n",
              "    li.append(span(file.name, {fontWeight: 'bold'}));\n",
              "    li.append(span(\n",
              "        `(${file.type || 'n/a'}) - ${file.size} bytes, ` +\n",
              "        `last modified: ${\n",
              "            file.lastModifiedDate ? file.lastModifiedDate.toLocaleDateString() :\n",
              "                                    'n/a'} - `));\n",
              "    const percent = span('0% done');\n",
              "    li.appendChild(percent);\n",
              "\n",
              "    outputElement.appendChild(li);\n",
              "\n",
              "    const fileDataPromise = new Promise((resolve) => {\n",
              "      const reader = new FileReader();\n",
              "      reader.onload = (e) => {\n",
              "        resolve(e.target.result);\n",
              "      };\n",
              "      reader.readAsArrayBuffer(file);\n",
              "    });\n",
              "    // Wait for the data to be ready.\n",
              "    let fileData = yield {\n",
              "      promise: fileDataPromise,\n",
              "      response: {\n",
              "        action: 'continue',\n",
              "      }\n",
              "    };\n",
              "\n",
              "    // Use a chunked sending to avoid message size limits. See b/62115660.\n",
              "    let position = 0;\n",
              "    do {\n",
              "      const length = Math.min(fileData.byteLength - position, MAX_PAYLOAD_SIZE);\n",
              "      const chunk = new Uint8Array(fileData, position, length);\n",
              "      position += length;\n",
              "\n",
              "      const base64 = btoa(String.fromCharCode.apply(null, chunk));\n",
              "      yield {\n",
              "        response: {\n",
              "          action: 'append',\n",
              "          file: file.name,\n",
              "          data: base64,\n",
              "        },\n",
              "      };\n",
              "\n",
              "      let percentDone = fileData.byteLength === 0 ?\n",
              "          100 :\n",
              "          Math.round((position / fileData.byteLength) * 100);\n",
              "      percent.textContent = `${percentDone}% done`;\n",
              "\n",
              "    } while (position < fileData.byteLength);\n",
              "  }\n",
              "\n",
              "  // All done.\n",
              "  yield {\n",
              "    response: {\n",
              "      action: 'complete',\n",
              "    }\n",
              "  };\n",
              "}\n",
              "\n",
              "scope.google = scope.google || {};\n",
              "scope.google.colab = scope.google.colab || {};\n",
              "scope.google.colab._files = {\n",
              "  _uploadFiles,\n",
              "  _uploadFilesContinue,\n",
              "};\n",
              "})(self);\n",
              "</script> "
            ]
          },
          "metadata": {}
        },
        {
          "output_type": "stream",
          "name": "stdout",
          "text": [
            "Saving containerjpg.jpg to containerjpg.jpg\n"
          ]
        }
      ]
    },
    {
      "cell_type": "code",
      "source": [
        "for filename in uploaded.keys():\n",
        "    display(Image(filename))\n"
      ],
      "metadata": {
        "colab": {
          "base_uri": "https://localhost:8080/",
          "height": 310
        },
        "id": "dlHAGoNk_lhH",
        "outputId": "09df070f-e18c-47b7-bf70-c438482a1921"
      },
      "execution_count": 4,
      "outputs": [
        {
          "output_type": "display_data",
          "data": {
            "image/jpeg": "[encoded data removed]",
            "text/plain": [
              "<IPython.core.display.Image object>"
            ]
          },
          "metadata": {}
        }
      ]
    },
    {
      "cell_type": "markdown",
      "source": [
        "**Local container yard in Houston tx**"
      ],
      "metadata": {
        "id": "59Izpt-t_s-E"
      }
    },
    {
      "cell_type": "code",
      "source": [],
      "metadata": {
        "id": "3V9jxRCY_5FN"
      },
      "execution_count": 4,
      "outputs": []
    },
    {
      "cell_type": "markdown",
      "source": [
        " The following data represents the daily number of containers a port yard has reported in the last 30 days waiting to be dispathced.The port yard has an actual capacity of 250 containers.\n",
        "    \n",
        "    (100, 120, 130, 150, 140 160, 175, 110, 120, 115,\n",
        "     125, 130, 120, 125, 156, 170, 220, 130, 110, 90,\n",
        "     50, 75, 100, 120, 123,170, 110, 100, 95, 110)\n",
        "    \n",
        "1. Determine the average number of containers in the yard. If the cost of holding a container at the yard one day is 17 usd,\n",
        "what is the average cost charged to the shiping line per day?\n",
        "\n",
        "2. What is the median cost?\n",
        "\n",
        "3. The shiping line is challenging the port to pay only USD$1,870 in demurrages per day. What proportion of the time is this\n",
        "cost true? Should the port accept it? why?\n",
        "\n",
        "4. The port authority is considering to reduce the yard space to a capacity of 150 containers, would you recommed this reduction?\n",
        "why?\n",
        "\n",
        "5. The port may accept to keep the actual capacity if the yard has a capacity betwwen 69 and 180 containers at least 60% of the time.\n",
        "Use Chebyshev's approach to give an answer to the port.\n",
        "    \n",
        "\n",
        "1.   List item\n",
        "\n",
        "1.   List item\n",
        "2.   List item\n",
        "\n",
        "\n",
        "2.   List item\n",
        "\n"
      ],
      "metadata": {
        "id": "D4baEXo2_6RK"
      }
    },
    {
      "cell_type": "code",
      "source": [
        "# imports\n",
        "import numpy as np\n",
        "import pandas as pd\n",
        "import matplotlib.pyplot as plt"
      ],
      "metadata": {
        "id": "jeZVFRc2_-C8"
      },
      "execution_count": 5,
      "outputs": []
    },
    {
      "cell_type": "code",
      "source": [
        "# making a aray of the containers\n",
        "containerData = np.array([100, 120, 130, 150, 140, 160, 175, 110, 120, 115,\n",
        "     125, 130, 120, 125, 156, 170, 220, 130, 110, 90,\n",
        "     50, 75, 100, 120, 12])"
      ],
      "metadata": {
        "id": "hNtY6qUZANfz"
      },
      "execution_count": 6,
      "outputs": []
    },
    {
      "cell_type": "code",
      "source": [
        "# get the min and max\n",
        "min =np.min(containerData)\n",
        "max = np.max(containerData)\n",
        "print(min)\n",
        "print(max)\n",
        "len(containerData)"
      ],
      "metadata": {
        "colab": {
          "base_uri": "https://localhost:8080/"
        },
        "id": "VE4AoJMHBSgm",
        "outputId": "7422c350-4788-465f-b5a5-72e6f28cd3cb"
      },
      "execution_count": 7,
      "outputs": [
        {
          "output_type": "stream",
          "name": "stdout",
          "text": [
            "12\n",
            "220\n"
          ]
        },
        {
          "output_type": "execute_result",
          "data": {
            "text/plain": [
              "25"
            ]
          },
          "metadata": {},
          "execution_count": 7
        }
      ]
    },
    {
      "cell_type": "code",
      "source": [
        "# create 11 bins for the data with whole number\n",
        "bins = np.linspace(min, max, 11)\n",
        "bins\n",
        "\n",
        "\n",
        "\n"
      ],
      "metadata": {
        "colab": {
          "base_uri": "https://localhost:8080/"
        },
        "id": "4D1AANuABhiS",
        "outputId": "38ce8e1d-ee0e-411c-84f3-18a347590758"
      },
      "execution_count": 8,
      "outputs": [
        {
          "output_type": "execute_result",
          "data": {
            "text/plain": [
              "array([ 12. ,  32.8,  53.6,  74.4,  95.2, 116. , 136.8, 157.6, 178.4,\n",
              "       199.2, 220. ])"
            ]
          },
          "metadata": {},
          "execution_count": 8
        }
      ]
    },
    {
      "cell_type": "code",
      "source": [
        "bins = np.round(bins).astype(int)"
      ],
      "metadata": {
        "id": "DqqQS_DADMiC"
      },
      "execution_count": 9,
      "outputs": []
    },
    {
      "cell_type": "code",
      "source": [
        "# calclate the frequancy for each clas\n",
        "freg, edges = np.histogram(containerData, bins =bins)"
      ],
      "metadata": {
        "id": "A8a-mnE4DYOv"
      },
      "execution_count": 10,
      "outputs": []
    },
    {
      "cell_type": "code",
      "source": [
        "edges = edges[:-1]\n",
        "print(edges)\n",
        "print(freg)\n"
      ],
      "metadata": {
        "colab": {
          "base_uri": "https://localhost:8080/"
        },
        "id": "C3WN5eEvDu6C",
        "outputId": "bd51bd9a-d9f7-4c3e-a58f-22ab5d8693bf"
      },
      "execution_count": 11,
      "outputs": [
        {
          "output_type": "stream",
          "name": "stdout",
          "text": [
            "[ 12  33  54  74  95 116 137 158 178 199]\n",
            "[1 1 0 2 5 9 3 3 0 1]\n"
          ]
        }
      ]
    },
    {
      "cell_type": "code",
      "source": [],
      "metadata": {
        "id": "G6oJOqz5EeB5"
      },
      "execution_count": 11,
      "outputs": []
    },
    {
      "cell_type": "code",
      "source": [
        "# calculate relative freguancy\n",
        "relFreq = freg/len(containerData)\n",
        "print(relFreq)"
      ],
      "metadata": {
        "colab": {
          "base_uri": "https://localhost:8080/"
        },
        "id": "mzcHdgWlEeSP",
        "outputId": "b2c8d4a9-ef40-4fa1-be3d-073a5f5aafc5"
      },
      "execution_count": 12,
      "outputs": [
        {
          "output_type": "stream",
          "name": "stdout",
          "text": [
            "[0.04 0.04 0.   0.08 0.2  0.36 0.12 0.12 0.   0.04]\n"
          ]
        }
      ]
    },
    {
      "cell_type": "markdown",
      "source": [
        "0.04: 4% of the data points fall into the first bin.\n",
        "0.04: 4% of the data points fall into the second bin.\n",
        "0.00: 0% of the data points fall into the third bin.\n",
        "0.08: 8% of the data points fall into the fourth bin.\n",
        "0.20: 20% of the data points fall into the fifth bin.\n",
        "0.36: 36% of the data points fall into the sixth bin.\n",
        "0.12: 12% of the data points fall into the seventh bin.\n",
        "0.12: 12% of the data points fall into the eighth bin.\n",
        "0.00: 0% of the data points fall into the ninth bin.\n",
        "0.04: 4% of the data points fall into the tenth bin"
      ],
      "metadata": {
        "id": "EiuzX1rGFD-U"
      }
    },
    {
      "cell_type": "code",
      "source": [
        "# calculate the cumulative frequarncy\n",
        "cumFreq = np.cumsum(relFreq)\n",
        "print(cumFreq)"
      ],
      "metadata": {
        "colab": {
          "base_uri": "https://localhost:8080/"
        },
        "id": "qs7Ty8UlFFUd",
        "outputId": "4f2035f2-e17c-4b9b-873a-4605154eea02"
      },
      "execution_count": 13,
      "outputs": [
        {
          "output_type": "stream",
          "name": "stdout",
          "text": [
            "[0.04 0.08 0.08 0.16 0.36 0.72 0.84 0.96 0.96 1.  ]\n"
          ]
        }
      ]
    },
    {
      "cell_type": "code",
      "source": [
        "# calculate relative comualtive freguency\n",
        "relCumfreg = np.cumsum(relFreq)\n",
        "print(relCumfreg)"
      ],
      "metadata": {
        "colab": {
          "base_uri": "https://localhost:8080/"
        },
        "id": "GXPM5NPuLKcW",
        "outputId": "59bf98a9-da7a-4160-9d50-73804879afc0"
      },
      "execution_count": 14,
      "outputs": [
        {
          "output_type": "stream",
          "name": "stdout",
          "text": [
            "[0.04 0.08 0.08 0.16 0.36 0.72 0.84 0.96 0.96 1.  ]\n"
          ]
        }
      ]
    },
    {
      "cell_type": "code",
      "source": [
        "# Plot the cumulative frequency data\n",
        "plt.plot(cumFreq, marker='o', linestyle='-')\n",
        "plt.title('Cumulative Frequency Plot')\n",
        "plt.xlabel('Data Points')\n",
        "plt.ylabel('Cumulative Frequency')\n",
        "plt.grid(True)\n",
        "plt.show()"
      ],
      "metadata": {
        "colab": {
          "base_uri": "https://localhost:8080/",
          "height": 472
        },
        "id": "EJ4p6a68F-AU",
        "outputId": "81da83e5-3ba6-4653-d052-4e865b78aa0d"
      },
      "execution_count": 15,
      "outputs": [
        {
          "output_type": "display_data",
          "data": {
            "text/plain": [
              "<Figure size 640x480 with 1 Axes>"
            ],
            "image/png": "[encoded data removed]"
          },
          "metadata": {}
        }
      ]
    },
    {
      "cell_type": "markdown",
      "source": [
        "**most of the data points are concentrated in the middle bins, with rapid accumulation around the 5th and 6th bins.**\n",
        "\n",
        "0.04: 4% of the data points fall into the first bin.\n",
        "0.08: 8% of the data points fall into the first two bins combined.\n",
        "0.08: 8% of the data points fall into the first three bins combined.\n",
        "0.16: 16% of the data points fall into the first four bins combined.\n",
        "0.36: 36% of the data points fall into the first five bins combined.\n",
        "0.72: 72% of the data points fall into the first six bins combined.\n",
        "0.84: 84% of the data points fall into the first seven bins combined.\n",
        "0.96: 96% of the data points fall into the first eight bins combined.\n",
        "0.96: 96% of the data points fall into the first nine bins combined.\n",
        "1.00: 100% of the data points fall into all ten bins."
      ],
      "metadata": {
        "id": "jc4n_3IMHcRo"
      }
    },
    {
      "cell_type": "code",
      "source": [
        "# calulate anles for pie chart\n",
        "angles = relFreq * 360\n",
        "print(angles)"
      ],
      "metadata": {
        "colab": {
          "base_uri": "https://localhost:8080/"
        },
        "id": "oyiuR-JzJ6Xb",
        "outputId": "c75402d7-c831-47b2-9d88-0272d3b1ccbd"
      },
      "execution_count": 16,
      "outputs": [
        {
          "output_type": "stream",
          "name": "stdout",
          "text": [
            "[ 14.4  14.4   0.   28.8  72.  129.6  43.2  43.2   0.   14.4]\n"
          ]
        }
      ]
    },
    {
      "cell_type": "code",
      "source": [
        "#create a DataFrame to display the tables\n",
        "distributionTable = pd.DataFrame({\n",
        "   'Classes': [f'{int(edges[i])}-{int(edges[i+1]-1)}' for i in range(len(edges)-1)] + [f'{int(edges[-1])}-79'],\n",
        "    'Frequency': freg,\n",
        "    'Relative Frequency': relFreq,\n",
        "    'Cumulative Frequency': cumFreq,\n",
        "    'Relative Cumulative Frequency': relCumfreg,\n",
        "    'Angle': angles\n",
        "})"
      ],
      "metadata": {
        "id": "cqfEMF2kHuqr"
      },
      "execution_count": 17,
      "outputs": []
    },
    {
      "cell_type": "code",
      "source": [
        "# Display the table\n",
        "print(distributionTable.to_string(index=False))"
      ],
      "metadata": {
        "colab": {
          "base_uri": "https://localhost:8080/"
        },
        "id": "BHH3W9XHHq4p",
        "outputId": "1f36115d-4e6f-4724-d40d-4c1c51b32d23"
      },
      "execution_count": 18,
      "outputs": [
        {
          "output_type": "stream",
          "name": "stdout",
          "text": [
            "Classes  Frequency  Relative Frequency  Cumulative Frequency  Relative Cumulative Frequency  Angle\n",
            "  12-32          1                0.04                  0.04                           0.04   14.4\n",
            "  33-53          1                0.04                  0.08                           0.08   14.4\n",
            "  54-73          0                0.00                  0.08                           0.08    0.0\n",
            "  74-94          2                0.08                  0.16                           0.16   28.8\n",
            " 95-115          5                0.20                  0.36                           0.36   72.0\n",
            "116-136          9                0.36                  0.72                           0.72  129.6\n",
            "137-157          3                0.12                  0.84                           0.84   43.2\n",
            "158-177          3                0.12                  0.96                           0.96   43.2\n",
            "178-198          0                0.00                  0.96                           0.96    0.0\n",
            " 199-79          1                0.04                  1.00                           1.00   14.4\n"
          ]
        }
      ]
    },
    {
      "cell_type": "code",
      "source": [],
      "metadata": {
        "id": "qSCAZeTeHqW6"
      },
      "execution_count": 18,
      "outputs": []
    },
    {
      "cell_type": "markdown",
      "source": [
        "**116-136: Highest frequency (9) and relative frequency (0.36), indicating the most data points are concentrated here.\n",
        "95-115: Significant frequency (5) and relative cumulative frequency jumps to 0.36, showing a major accumulation in this range.**"
      ],
      "metadata": {
        "id": "mSgsvZbSMbA7"
      }
    },
    {
      "cell_type": "code",
      "source": [
        "import matplotlib.pyplot as plt\n",
        "import seaborn as sns\n",
        "from scipy import stats\n",
        "\n",
        "# Plot a box plot\n",
        "plt.figure(figsize=(10, 5))\n",
        "plt.subplot(1, 2, 1)\n",
        "sns.boxplot(containerData)\n",
        "plt.title('Box Plot')\n",
        "\n",
        "# Plot a histogram\n",
        "plt.subplot(1, 2, 2)\n",
        "plt.hist(containerData, bins=[12,33,54,74,95,116,137,158,178,199,220], edgecolor='black')\n",
        "\n",
        "plt.title('Histogram')\n",
        "plt.xlabel('Number of Letters')\n",
        "plt.ylabel('Frequency')\n",
        "\n",
        "\n",
        "\n",
        "# Display the plots\n",
        "plt.tight_layout()\n",
        "plt.show()"
      ],
      "metadata": {
        "colab": {
          "base_uri": "https://localhost:8080/",
          "height": 507
        },
        "id": "PCjwyfKOMdWu",
        "outputId": "e2b82284-c37e-4a14-b249-dac7684fef31"
      },
      "execution_count": 19,
      "outputs": [
        {
          "output_type": "display_data",
          "data": {
            "text/plain": [
              "<Figure size 1000x500 with 2 Axes>"
            ],
            "image/png": "[encoded data removed]"
          },
          "metadata": {}
        }
      ]
    },
    {
      "cell_type": "markdown",
      "source": [
        "**Insights**\n",
        "\n",
        "box:\n",
        "\n",
        "The  plot on the left shows a data distribution with a median around 125, an interquartile range (IQR) between 100 and 150, and a few outliers below 50 and above 200.\n",
        "\n",
        "Histogram:\n",
        "\n",
        "The histogram on the right reveals that the most common number of letters ranges between 100 and 150, with a noticeable peak around 125. There are fewer instances of very low and very high letter counts. The histogram apears to be slightly left-skewed since there are a few lower values stretching out to the left."
      ],
      "metadata": {
        "id": "sqWpFU5x8hP6"
      }
    },
    {
      "cell_type": "code",
      "source": [
        "# get some stats\n",
        "mean = np.mean(containerData)\n",
        "median = np.median(containerData)\n",
        "mode = stats.mode(containerData)\n",
        "std = np.std(containerData)\n",
        "rangee = np.ptp(containerData)\n",
        "#standard deviation\n",
        "std_dev = np.std(containerData, ddof=1)\n",
        "# variance\n",
        "var = np.var(containerData, ddof=1)\n",
        "#display reuslts\n",
        "print(\"mean:\", mean)\n",
        "print(\"median:\", median)\n",
        "print(\"mode:\", mode)\n",
        "print(\"standard deviation:\", std)\n",
        "print(\"range:\", rangee)\n",
        "print(\"variance:\", var)\n",
        "print(\"standard deviation:\", std_dev)"
      ],
      "metadata": {
        "colab": {
          "base_uri": "https://localhost:8080/"
        },
        "id": "4tOcvLrD9wEw",
        "outputId": "aa4db1ff-dc0a-46db-a92a-21e32840f79b"
      },
      "execution_count": 25,
      "outputs": [
        {
          "output_type": "stream",
          "name": "stdout",
          "text": [
            "mean: 122.12\n",
            "median: 120.0\n",
            "mode: ModeResult(mode=120, count=4)\n",
            "standard deviation: 40.23562600482314\n",
            "range: 208\n",
            "variance: 1686.36\n",
            "standard deviation: 41.06531383053099\n"
          ]
        }
      ]
    },
    {
      "cell_type": "markdown",
      "source": [
        "**Insights:**\n",
        "Here are the insights based on the given statistics:\n",
        "\n",
        "1. **Mean (122.12):** On average, the number of shipping containers is 122.12.\n",
        "2. **Median (120.0):** The midpoint of the dataset is 120, meaning half of the observations are below this value and half are above.\n",
        "3. **Mode (120, count=4):** The most frequently occurring number of shipping containers is 120, appearing 4 times.\n",
        "4. **Standard Deviation (40.24 and 41.07):** The number of shipping containers typically deviates from the mean by about 40.24 to 41.07, indicating a moderate variability around the average.\n",
        "5. **Range (208):** The difference between the maximum and minimum values is 208, suggesting a wide spread in the number of containers.\n",
        "6. **Variance (1686.36):** The average squared deviation from the mean is 1686.36, consistent with the standard deviation values, reflecting moderate variability.\n",
        "\n",
        "These statistics indicate a dataset with a central tendency around 120 containers, moderate variability, and a wide range, suggesting some outliers. The histogram and box plot reinforce these observations, showing a slightly left-skewed distribution with most values concentrated around the mean.\n",
        "\n"
      ],
      "metadata": {
        "id": "ucCmZqo1_VM5"
      }
    },
    {
      "cell_type": "code",
      "source": [
        "# calculate the percentiles\n",
        "percentiles = [10,25, 50, 75,90]\n",
        "percentiles_values = np.percentile(containerData, percentiles)\n",
        "\n",
        "# create a dataframe to display the table\n",
        "percentilesTable = pd.DataFrame({\n",
        "    'Percentile': percentiles,\n",
        "    'Value': percentiles_values\n",
        "})\n",
        "\n",
        "# display the table\n",
        "print(percentilesTable.to_string(index=False))\n"
      ],
      "metadata": {
        "colab": {
          "base_uri": "https://localhost:8080/"
        },
        "id": "6s46g4wWAgAs",
        "outputId": "1b85201c-3a52-4b73-9173-7b6e78b4ebe8"
      },
      "execution_count": 29,
      "outputs": [
        {
          "output_type": "stream",
          "name": "stdout",
          "text": [
            " Percentile  Value\n",
            "         10   81.0\n",
            "         25  110.0\n",
            "         50  120.0\n",
            "         75  140.0\n",
            "         90  166.0\n"
          ]
        }
      ]
    },
    {
      "cell_type": "markdown",
      "source": [
        "10th Percentile (81.0): 10% of the shipping container counts are 81 or fewer. This indicates that the lower end of the dataset has relatively fewer containers.\n",
        "25th Percentile (110.0): 25% of the container counts are 110 or fewer. This value represents the lower quartile, showing that a quarter of the data lies below 110.\n",
        "50th Percentile (120.0): 50% of the container counts are 120 or fewer. This is the median, indicating the middle of the dataset.\n",
        "75th Percentile (140.0): 75% of the container counts are 140 or fewer. This represents the upper quartile, showing that three-quarters of the data lies below 140.\n",
        "90th Percentile (166.0): 90% of the container counts are 166 or fewer. This indicates that the upper end of the dataset has relatively higher counts.\n",
        "\n",
        "**Take Away**\n",
        "\n",
        "Overall, the data is centered around the median (120), with a relatively balanced distribution between the lower and upper quartiles but with a tendency towards higher container counts on the upper end."
      ],
      "metadata": {
        "id": "0WKJqOk7B51q"
      }
    },
    {
      "cell_type": "markdown",
      "source": [
        "**Answers**\n",
        "\n",
        "\n",
        "1.   Avg cost per containers = Average cost=2,076.\n",
        "2.   Median cost= 2,040.\n",
        "\n",
        "\n",
        "\n",
        "\n",
        "\n"
      ],
      "metadata": {
        "id": "nVh6OnCYDtgK"
      }
    },
    {
      "cell_type": "markdown",
      "source": [
        "**The shipping line is challenging the port to pay only 1,870 USD in demurrages per day. What proportion of the time is this cost true? Should the port accept it? Why?**\n",
        "\n",
        "Cost corresponding to 1,870 USD:\n",
        "Number of containers\n",
        "=\n",
        "1870\n",
        "17\n",
        "Number of containers=\n",
        "17\n",
        "1870\n",
        "​\n",
        "\n",
        "Number of containers\n",
        "≈\n",
        "110\n",
        "Number of containers≈110\n",
        "\n",
        "Proportion of time this cost is true:\n",
        "From the percentiles:\n",
        "\n",
        "The 25th percentile is 110, meaning 25% of the time, the number of containers is 110 or fewer.\n",
        "So, the proportion of time the cost is true is 25%.\n",
        "\n",
        "Should the port accept it?\n",
        "\n",
        "The port should not accept it because it would only cover the cost 25% of the time, meaning 75% of the time, the port would incur losses.\n"
      ],
      "metadata": {
        "id": "csM5dUkJFbxU"
      }
    },
    {
      "cell_type": "markdown",
      "source": [
        "**The port authority is considering reducing the yard space to a capacity of 150 containers. Would you recommend this reduction? Why?**\n",
        "75th Percentile: The 75th percentile value is 140, meaning 75% of the time, the number of containers is 140 or fewer.\n",
        "\n",
        "Recommendation:\n",
        "\n",
        "Reducing the yard space to 150 containers would be reasonable since 75% of the time, the number of containers is below 150. However, it would be tight during the times when the number of containers exceeds 150, which happens 25% of the time. This reduction could lead to operational challenges during peak periods."
      ],
      "metadata": {
        "id": "cNNEtQ4mGXVj"
      }
    },
    {
      "cell_type": "code",
      "source": [],
      "metadata": {
        "id": "kL-xAYoZ_kwK"
      },
      "execution_count": null,
      "outputs": []
    }
  ]
}